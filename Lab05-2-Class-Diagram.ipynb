{
 "cells": [
  {
   "cell_type": "markdown",
   "metadata": {},
   "source": [
    "# Lab 5.2 การวาด class diagram ด้วย mermaid diagram"
   ]
  },
  {
   "cell_type": "markdown",
   "metadata": {},
   "source": [
    "## 5.2.1 องค์ประกอบใน class diagram"
   ]
  },
  {
   "cell_type": "markdown",
   "metadata": {},
   "source": [
    "### 1. Class"
   ]
  },
  {
   "cell_type": "markdown",
   "metadata": {},
   "source": [
    "การวาด class diagram ใน mermaid มี keywords ที่สำคัญคือ\n",
    "1. ต้องระบุ __ชนิดของไดะแกรม__ ด้วยคีย์เวิร์ด `classDiagram`\n",
    "2. ต้องระบุ __ชื่อคลาส__ ด้วยคีย์เวิร์ด `class`\n",
    "\n"
   ]
  },
  {
   "cell_type": "code",
   "execution_count": null,
   "metadata": {
    "dotnet_interactive": {
     "language": "mermaid"
    },
    "polyglot_notebook": {
     "kernelName": "mermaid"
    }
   },
   "outputs": [],
   "source": [
    "classDiagram\n",
    "    class Animal\n"
   ]
  },
  {
   "cell_type": "markdown",
   "metadata": {},
   "source": [
    "แก้ code จากด้านบนเป็น\n",
    "> ```diff\n",
    "> classDiagram\n",
    "> -    class Animal\n",
    "> +    class Vehicle\n",
    "> +    class Computer\n",
    "> ``` "
   ]
  },
  {
   "cell_type": "code",
   "execution_count": null,
   "metadata": {},
   "outputs": [],
   "source": [
    "พื้นที่เขียน code"
   ]
  },
  {
   "cell_type": "markdown",
   "metadata": {},
   "source": [
    "---"
   ]
  },
  {
   "cell_type": "markdown",
   "metadata": {},
   "source": [
    "### 2. Class label"
   ]
  },
  {
   "cell_type": "markdown",
   "metadata": {},
   "source": [
    "โดยปกติ ชื่อคลาสต้องไม่มีช่องว่างภายในชื่อ ในกรณีที่ต้องการระบุชื่อคลาสที่อ่านง่ายขึ้น เราสามารถใส่ label สำหรับคลาสได้"
   ]
  },
  {
   "cell_type": "code",
   "execution_count": null,
   "metadata": {
    "dotnet_interactive": {
     "language": "mermaid"
    },
    "polyglot_notebook": {
     "kernelName": "mermaid"
    }
   },
   "outputs": [],
   "source": [
    "classDiagram\n",
    "    class Animal[\"Animal with a label\"]\n",
    "    class Dog[\"Dog is animal\"]\n",
    "\n",
    "Animal <|-- Dog\n"
   ]
  },
  {
   "cell_type": "markdown",
   "metadata": {},
   "source": [
    "### การเพิ่มสมาชิกของคลาส\n",
    "\n",
    "Mermaid  มีรูปแบบในการเขียน code เพื่อระบุประเภทของสมาชิก ดังนี้\n",
    "1. การระบุตัวแปร (variables, fields, หรือ prpoerties)  ทำได้โดยการเขียนชื่อตัวแปร และ/หรือ ชนิด\n",
    "2. การระบุ method ทำได้โดยการเขียนชื่อ method ตามด้วยวงเล็บ\n",
    "\n",
    "เช่น\n",
    "> ```mermaid\n",
    "> classDiagram\n",
    "> class BankAccount\n",
    "> BankAccount : +String owner\n",
    "> BankAccount : +BigDecimal balance\n",
    "> BankAccount : +deposit(amount)\n",
    "> BankAccount : +withdrawal(amount)\n",
    "> ```\n"
   ]
  },
  {
   "cell_type": "markdown",
   "metadata": {},
   "source": [
    "ให้นำ code ข้างบนมาใส่ลงใน code cell  แล้วรันเพื่อดูผลลัพธ์"
   ]
  },
  {
   "cell_type": "code",
   "execution_count": null,
   "metadata": {
    "dotnet_interactive": {
     "language": "mermaid"
    },
    "polyglot_notebook": {
     "kernelName": "mermaid"
    }
   },
   "outputs": [],
   "source": [
    "พื้นที่เขียน code"
   ]
  },
  {
   "cell_type": "markdown",
   "metadata": {},
   "source": [
    "### การระบุ return type สำหรับ method\n",
    "ในโปรแกรม oop ส่วนใหญ่จะเป็นภาษาแบบ strong type นั่นคือต้องมีการระบุชนิดสำหรับการส่งค่ากลับของ method อย่างชัดเจน\n",
    "วิธีการเขียนคือให้ใส่ชนิด return ไว้หลังวงเล็บของ method\n",
    "> ```diff\n",
    "> classDiagram\n",
    "> class BankAccount{\n",
    ">     +String owner\n",
    ">     +BigDecimal balance\n",
    ">     +deposit(amount) bool\n",
    ">     +withdrawal(amount) int\n",
    "> }\n",
    "> ```"
   ]
  },
  {
   "cell_type": "markdown",
   "metadata": {},
   "source": [
    "เขียน code ตามข้างบนแล้วรันเพื่อดูผลลัพธ์"
   ]
  },
  {
   "cell_type": "code",
   "execution_count": null,
   "metadata": {
    "dotnet_interactive": {
     "language": "mermaid"
    },
    "polyglot_notebook": {
     "kernelName": "mermaid"
    }
   },
   "outputs": [],
   "source": [
    "พื้นที่เขียน code"
   ]
  },
  {
   "cell_type": "markdown",
   "metadata": {},
   "source": [
    "### การระบุ visibility"
   ]
  },
  {
   "cell_type": "markdown",
   "metadata": {},
   "source": [
    "การระบุ visibility ของสมาชิกในคลาส\n",
    "\n",
    "|สัญลักษณ์|visibility|\n",
    "|:--:|--|\n",
    "|+ |Public|\n",
    "|- |Private|\n",
    "|#| Protected|"
   ]
  },
  {
   "cell_type": "markdown",
   "metadata": {},
   "source": [
    "คลาส Person เป็นตัวอย่างของคลาสคน ที่ไม่มีใครทราบชื่อ นามสกุล และอายของคนอื่น จนกว่าเขาจะบอกว่าเขาเป็นใคร อายุเท่าไหร่\n",
    "\n",
    "ถ้าเราอยากทราบข้อมูลส่วนบุคคล ให้ถามเขา (เช่นด้วยเมธอด  TellName, TellFullName และ TellAge เป็นต้น)\n",
    "\n",
    "ทดสอบไดอะแกรมต่อไปนี้โดยการรันในช่อง code cell ด้านล่าง\n",
    "\n",
    "```diff\n",
    ">classDiagram\n",
    ">  class Person{\n",
    ">      -String name\n",
    ">      #String lastName\n",
    ">      -int age\n",
    ">      +TellName() String\n",
    ">      +TellFullName() String\n",
    ">      +TellAge() int\n",
    ">  }\n",
    "```"
   ]
  },
  {
   "cell_type": "code",
   "execution_count": null,
   "metadata": {
    "dotnet_interactive": {
     "language": "mermaid"
    },
    "polyglot_notebook": {
     "kernelName": "mermaid"
    }
   },
   "outputs": [],
   "source": [
    "พื้นที่เขียน code"
   ]
  },
  {
   "cell_type": "markdown",
   "metadata": {},
   "source": [
    "---"
   ]
  },
  {
   "cell_type": "markdown",
   "metadata": {},
   "source": [
    "### การกำหนดเส้นเชื่อมโยงเพื่อแสดงความสัมพันธ์ระหว่างคลาส"
   ]
  },
  {
   "cell_type": "markdown",
   "metadata": {},
   "source": [
    "\n",
    "มีรูปแบบการเขียนคือ\n",
    "\n",
    "[classA][Arrow][ClassB]"
   ]
  },
  {
   "cell_type": "markdown",
   "metadata": {},
   "source": [
    "ใน mermaid diagram มีรูปแบบลูกศรที่รองรับแตกต่างกัน 8 รูปแบบ \n",
    "\n",
    "|Type|\tDescription|\n",
    "|:---:|--------|\n",
    "|<\\|--\t|Inheritance|\n",
    "|*--\t|Composition|\n",
    "|o--\t|Aggregation|\n",
    "|-->\t|Association|\n",
    "|--\t|Link (Solid)|\n",
    "|..>\t|Dependency|\n",
    "|..\\|>\t|Realization|\n",
    "|..\t|Link (Dashed)|"
   ]
  },
  {
   "cell_type": "markdown",
   "metadata": {},
   "source": [
    "เขียน code ต่อไปนี้ลงใน code cell โดยกำหนดภาษาเป็น mermaid แล้วรันเพื่อดูผลที่ได้\n",
    "> ```diff\n",
    "> classDiagram\n",
    "> classA <|-- classB\n",
    "> classC *-- classD\n",
    "> classE o-- classF\n",
    "> classG <-- classH\n",
    "> classI -- classJ\n",
    "> classK <.. classL\n",
    "> classM <|.. classN\n",
    "> classO .. classP\n",
    "> ```\n"
   ]
  },
  {
   "cell_type": "code",
   "execution_count": null,
   "metadata": {},
   "outputs": [],
   "source": []
  },
  {
   "cell_type": "markdown",
   "metadata": {},
   "source": [
    "เราสามารถกำหนดชื่อให้กับลูกศรได้\n",
    "\n"
   ]
  },
  {
   "cell_type": "markdown",
   "metadata": {},
   "source": [
    "เขียน code ต่อไปนี้ลงใน code cell โดยกำหนดภาษาเป็น mermaid แล้วรันเพื่อดูผลที่ได้\n",
    "> ```diff\n",
    "> classDiagram\n",
    "> classA --|> classB : Inheritance\n",
    "> classC --* classD : Composition\n",
    "> classE --o classF : Aggregation\n",
    "> classG --> classH : Association\n",
    "> classI -- classJ : Link(Solid)\n",
    "> classK ..> classL : Dependency\n",
    "> classM ..|> classN : Realization\n",
    "> classO .. classP : Link(Dashed)\n",
    "> ```"
   ]
  },
  {
   "cell_type": "markdown",
   "metadata": {},
   "source": [
    "ห"
   ]
  },
  {
   "cell_type": "code",
   "execution_count": null,
   "metadata": {},
   "outputs": [],
   "source": []
  },
  {
   "cell_type": "markdown",
   "metadata": {},
   "source": [
    "---"
   ]
  },
  {
   "cell_type": "markdown",
   "metadata": {},
   "source": [
    "### Cardinality / Multiplicity on relations"
   ]
  },
  {
   "cell_type": "markdown",
   "metadata": {},
   "source": [
    "รูปแบบต่างๆ ของ Cardinality\n",
    "\n",
    "|Symbol|Description|\n",
    "|:----:|----|\n",
    "|1 |Only 1|\n",
    "|0..1 |Zero or One|\n",
    "|1..* |One or more|\n",
    "|* |Many|\n",
    "|n |n (where n>1)|\n",
    "|0..n |zero to n (where n>1)|\n",
    "|1..n |one to n (where n>1)|"
   ]
  },
  {
   "cell_type": "markdown",
   "metadata": {},
   "source": [
    "วิธีการระบุ cardilanity\n",
    "\n",
    "`[classA] \"cardinality1\" [Arrow] \"cardinality2\" [ClassB]:LabelText`"
   ]
  },
  {
   "cell_type": "markdown",
   "metadata": {},
   "source": [
    "เขียน code ต่อไปนี้ลงใน mermaid code cell แล้วรันเพื่อดูผลลัพธ์\n",
    ">```diff\n",
    ">classDiagram\n",
    ">    Customer \"1\" --> \"*\" Ticket \n",
    ">    Student \"1\" --> \"1..*\" Course \n",
    ">    Galaxy --> \"many\" Star\n",
    ">``` "
   ]
  },
  {
   "cell_type": "code",
   "execution_count": null,
   "metadata": {
    "dotnet_interactive": {
     "language": "mermaid"
    },
    "polyglot_notebook": {
     "kernelName": "mermaid"
    }
   },
   "outputs": [],
   "source": [
    "   "
   ]
  },
  {
   "cell_type": "markdown",
   "metadata": {},
   "source": [
    "ปรับปรุง code ด้านบน แล้วรันเพื่อดูผลลัพธ์\n",
    ">```diff\n",
    ">classDiagram\n",
    ">-    Customer \"1\" --> \"*\" Ticket \n",
    ">+    Customer \"1\" --> \"*\" Ticket : Buy\n",
    ">-    Student \"1\" --> \"1..*\" Course \n",
    ">+    Student \"1\" --> \"1..*\" Course : Register\n",
    ">-    Galaxy --> \"many\" Star\n",
    ">+    Galaxy --> \"many\" Star : Contains\n",
    ">```"
   ]
  },
  {
   "cell_type": "code",
   "execution_count": null,
   "metadata": {
    "dotnet_interactive": {
     "language": "mermaid"
    },
    "polyglot_notebook": {
     "kernelName": "mermaid"
    }
   },
   "outputs": [],
   "source": []
  },
  {
   "cell_type": "markdown",
   "metadata": {},
   "source": [
    "## แบบฝึดหัด\n",
    "\n",
    "1. ให้ค้นหา class diagram จาก internet มา 3 ภาพ ที่วาดขึ้นโดยโปรแกรมอื่นที่ไม่ใช่ mermaid  โดยมีองค์ประกอบในไดอะแกรมไม่น้อยกว่า 5 ชิ้นส่วน  \n",
    "2. เขียน code ในภาษา mermaid diagram เพื่อวาดตามไดอะแกรมนั้น\n",
    "3. นำภาพที่ได้เทียบกับต้นฉบับ โดย capture เป็น png แล้วแนบลิ้งค์มาในไฟล์ ipynb นี้ (อย่าวางภาพลงไปโดยการ copy & paste เนื่องจากจะทำให้ไฟล์ ipynb มีขนาดที่โตเกินไป)\n"
   ]
  },
  {
   "cell_type": "markdown",
   "metadata": {},
   "source": [
    "![ข้อ4เขียนเอง](https://raw.githubusercontent.com/samaj43981/Lab05-UML-Diagram-Drawing-with-Mermaid-diagram/main/mermiad/ข้อ4เขียนเอง.png)\n",
    "![ข้อ4ตัวอย่าง](https://raw.githubusercontent.com/samaj43981/Lab05-UML-Diagram-Drawing-with-Mermaid-diagram/main/mermiad/ข้อ4ตัวอย่าง.png)\n",
    "![ข้อ5เขียนเอง](https://raw.githubusercontent.com/samaj43981/Lab05-UML-Diagram-Drawing-with-Mermaid-diagram/main/mermiad/ข้อ5เขียนเอง.png)\n",
    "![ข้อ5ตัวอย่าง](https://raw.githubusercontent.com/samaj43981/Lab05-UML-Diagram-Drawing-with-Mermaid-diagram/main/mermiad/ข้อ5ตัวอย่าง.png)\n",
    "![ข้อ6เขียนเอง](https://raw.githubusercontent.com/samaj43981/Lab05-UML-Diagram-Drawing-with-Mermaid-diagram/main/mermiad/ข้อ6เขียนเอง.png)\n",
    "![ข้อ6ตัวอย่าง](https://raw.githubusercontent.com/samaj43981/Lab05-UML-Diagram-Drawing-with-Mermaid-diagram/main/mermiad/ข้อ6ตัวอย่าง.png)"
   ]
  }
 ],
 "metadata": {
  "kernelspec": {
   "display_name": ".NET (C#)",
   "language": "C#",
   "name": ".net-csharp"
  },
  "polyglot_notebook": {
   "kernelInfo": {
    "defaultKernelName": "mermaid",
    "items": [
     {
      "aliases": [],
      "languageName": "mermaid",
      "name": "mermaid"
     }
    ]
   }
  }
 },
 "nbformat": 4,
 "nbformat_minor": 2
}
