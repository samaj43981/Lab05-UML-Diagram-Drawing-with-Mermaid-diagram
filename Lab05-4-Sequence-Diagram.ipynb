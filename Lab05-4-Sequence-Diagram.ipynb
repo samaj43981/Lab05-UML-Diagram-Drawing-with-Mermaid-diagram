{
 "cells": [
  {
   "cell_type": "markdown",
   "metadata": {
    "dotnet_interactive": {
     "language": "csharp"
    },
    "polyglot_notebook": {
     "kernelName": "csharp"
    }
   },
   "source": [
    "# Lab 5.4 การวาด State diagram "
   ]
  },
  {
   "cell_type": "markdown",
   "metadata": {},
   "source": [
    "## แนวทางการศึกษา\n",
    "\n",
    "ให้ศึกษารูปแบบและวิธีการเขียน mermaid diagram เพื่อวาด state diagram จาก เว็บเพจนี้\n",
    "\n",
    "https://mermaid.js.org/syntax/stateDiagram.html\n"
   ]
  },
  {
   "cell_type": "markdown",
   "metadata": {},
   "source": [
    "## แบบฝึดหัด\n",
    "\n",
    "1. ให้ค้นหา state diagram จาก internet มา 3 ภาพ ที่วาดขึ้นโดยโปรแกรมอื่นที่ไม่ใช่ mermaid  โดยมีองค์ประกอบในไดอะแกรมไม่น้อยกว่า 5 ชิ้นส่วน  \n",
    "2. เขียน code ในภาษา mermaid diagram เพื่อวาดตามไดอะแกรมนั้น\n",
    "3. นำภาพที่ได้เทียบกับต้นฉบับ โดย capture เป็น png แล้วแนบลิ้งค์มาในไฟล์ ipynb นี้ (อย่าวางภาพลงไปโดยการ copy & paste เนื่องจากจะทำให้ไฟล์ ipynb มีขนาดที่โตเกินไป)\n"
   ]
  },
  {
   "cell_type": "markdown",
   "metadata": {},
   "source": [
    "![ข้อ10เขียนเอง](https://raw.githubusercontent.com/samaj43981/Lab05-UML-Diagram-Drawing-with-Mermaid-diagram/main/mermiad/ข้อ10เขียนเอง.png)\n",
    "![ข้อ10ตัวอย่าง](https://raw.githubusercontent.com/samaj43981/Lab05-UML-Diagram-Drawing-with-Mermaid-diagram/main/mermiad/ข้อ10ตัวอย่าง.png)\n",
    "\n",
    "![ข้อ11เขียนเอง](https://raw.githubusercontent.com/samaj43981/Lab05-UML-Diagram-Drawing-with-Mermaid-diagram/main/mermiad/ข้อ11เขียนเอง.png)\n",
    "![ข้อ11ตัวอย่าง](https://raw.githubusercontent.com/samaj43981/Lab05-UML-Diagram-Drawing-with-Mermaid-diagram/main/mermiad/ข้อ11ตัวอย่าง.png)\n",
    "\n",
    "![ข้อ12เขียนเอง](https://raw.githubusercontent.com/samaj43981/Lab05-UML-Diagram-Drawing-with-Mermaid-diagram/main/mermiad/ข้อ12เขียนเอง.png)\n",
    "![ข้อ12ตัวอย่าง](https://raw.githubusercontent.com/samaj43981/Lab05-UML-Diagram-Drawing-with-Mermaid-diagram/main/mermiad/ข้อ12ตัวอย่าง.png)"
   ]
  }
 ],
 "metadata": {
  "kernelspec": {
   "display_name": ".NET (C#)",
   "language": "C#",
   "name": ".net-csharp"
  },
  "polyglot_notebook": {
   "kernelInfo": {
    "defaultKernelName": "csharp",
    "items": [
     {
      "aliases": [],
      "languageName": "csharp",
      "name": "csharp"
     }
    ]
   }
  }
 },
 "nbformat": 4,
 "nbformat_minor": 2
}
